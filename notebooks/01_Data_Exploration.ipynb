{
  "nbformat": 4,
  "nbformat_minor": 0,
  "metadata": {
    "colab": {
      "provenance": [],
      "authorship_tag": "ABX9TyNfEDdOcoLuwf3TectOrjyB",
      "include_colab_link": true
    },
    "kernelspec": {
      "name": "python3",
      "display_name": "Python 3"
    },
    "language_info": {
      "name": "python"
    }
  },
  "cells": [
    {
      "cell_type": "markdown",
      "metadata": {
        "id": "view-in-github",
        "colab_type": "text"
      },
      "source": [
        "<a href=\"https://colab.research.google.com/github/Osakhra/ITAI2373-NewsBot-Final/blob/main/notebooks/01_Data_Exploration.ipynb\" target=\"_parent\"><img src=\"https://colab.research.google.com/assets/colab-badge.svg\" alt=\"Open In Colab\"/></a>"
      ]
    },
    {
      "cell_type": "markdown",
      "source": [
        "# 01_Data_Exploration.ipynb\n",
        "\n",
        "Welcome to NewsBot 2.0 — Data Exploration\n",
        "\n",
        "This notebook loads and explores the raw news data, checks for quality, and prepares it for advanced analysis.\n"
      ],
      "metadata": {
        "id": "kjBHRTyzcJjc"
      }
    },
    {
      "cell_type": "code",
      "source": [
        "# Import basic packages\n",
        "import pandas as pd\n",
        "import matplotlib.pyplot as plt\n",
        "import seaborn as sns\n",
        "\n",
        "# Load your raw data (adjust the filename/path as needed)\n",
        "df = pd.read_csv('../data/raw/news_data.csv')\n",
        "\n",
        "# Preview the data\n",
        "df.head()\n"
      ],
      "metadata": {
        "id": "uOOoumhIcHFV"
      },
      "execution_count": null,
      "outputs": []
    },
    {
      "cell_type": "code",
      "source": [
        "# Basic data checks\n",
        "print(\"Shape:\", df.shape)\n",
        "print(\"Columns:\", df.columns)\n",
        "print(\"Missing values:\\n\", df.isnull().sum())\n",
        "\n",
        "# Visualize category distribution (use your utils if you want!)\n",
        "sns.countplot(data=df, x='category')\n",
        "plt.xticks(rotation=45)\n",
        "plt.title(\"Category Distribution\")\n",
        "plt.tight_layout()\n",
        "plt.show()\n"
      ],
      "metadata": {
        "id": "xVXikVjPcMzy"
      },
      "execution_count": null,
      "outputs": []
    },
    {
      "cell_type": "code",
      "source": [
        "# Example: Run the data validator from your src module\n",
        "from src.data_processing.data_validator import DataValidator\n",
        "\n",
        "validator = DataValidator(required_columns=['content', 'category'])\n",
        "validator.validate(df)\n"
      ],
      "metadata": {
        "id": "q_FfdjD9cOpo"
      },
      "execution_count": null,
      "outputs": []
    }
  ]
}